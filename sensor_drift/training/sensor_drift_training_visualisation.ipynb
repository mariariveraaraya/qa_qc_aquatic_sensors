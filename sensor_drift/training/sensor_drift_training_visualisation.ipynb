{
 "cells": [
  {
   "cell_type": "markdown",
   "metadata": {
    "application/vnd.databricks.v1+cell": {
     "cellMetadata": {
      "byteLimit": 2048000,
      "rowLimit": 10000
     },
     "inputWidgets": {},
     "nuid": "bec0c667-67d2-474c-a201-9f243cb16dfd",
     "showTitle": false,
     "title": ""
    }
   },
   "source": [
    "### Instructions\n",
    "\n",
    "- Change Location_code and/or measurement in the next cell.\n",
    "- Click 'Run all'"
   ]
  },
  {
   "cell_type": "code",
   "execution_count": null,
   "metadata": {
    "application/vnd.databricks.v1+cell": {
     "cellMetadata": {
      "byteLimit": 2048000,
      "rowLimit": 10000
     },
     "inputWidgets": {},
     "nuid": "778b68a2-06dd-4c07-ab46-ea8f205b65d5",
     "showTitle": false,
     "title": ""
    }
   },
   "outputs": [],
   "source": [
    "Location_code = 'wqm17_WP81'\n",
    "measurement = 'EC'"
   ]
  },
  {
   "cell_type": "code",
   "execution_count": null,
   "metadata": {
    "application/vnd.databricks.v1+cell": {
     "cellMetadata": {
      "byteLimit": 2048000,
      "rowLimit": 10000
     },
     "inputWidgets": {},
     "nuid": "f24fa364-a41d-4ef1-a666-7f70c748638a",
     "showTitle": false,
     "title": ""
    }
   },
   "outputs": [],
   "source": [
    "import os\n",
    "import plotly.express as px"
   ]
  },
  {
   "cell_type": "code",
   "execution_count": null,
   "metadata": {
    "application/vnd.databricks.v1+cell": {
     "cellMetadata": {
      "byteLimit": 2048000,
      "rowLimit": 10000
     },
     "inputWidgets": {},
     "nuid": "d1fa1666-e808-4252-b157-bfca1f07b22e",
     "showTitle": false,
     "title": ""
    }
   },
   "outputs": [],
   "source": [
    "env = os.getenv('platform_env)\n",
    "results=spark.read.parquet(f'abfss://lake-raw@etdllake{env}.dfs.core.windows.net/sensor_drift/results2')\n",
    "results2 = results.filter((results.Location_code== f'{Location_code}') & (results.measurement== f'{measurement}'))\n",
    "results3= results2.toPandas()"
   ]
  },
  {
   "cell_type": "code",
   "execution_count": null,
   "metadata": {
    "application/vnd.databricks.v1+cell": {
     "cellMetadata": {
      "byteLimit": 2048000,
      "rowLimit": 10000
     },
     "inputWidgets": {},
     "nuid": "19d96d63-71b6-449d-b5c8-5e258eb2d51c",
     "showTitle": false,
     "title": ""
    }
   },
   "outputs": [],
   "source": [
    "fig = px.scatter(results3, x=\"datetime\", y=\"measurement_value\", color = \"measurement_quality_value\")\n",
    "fig.show()"
   ]
  },
  {
   "cell_type": "code",
   "execution_count": null,
   "metadata": {
    "application/vnd.databricks.v1+cell": {
     "cellMetadata": {
      "byteLimit": 2048000,
      "rowLimit": 10000
     },
     "inputWidgets": {},
     "nuid": "6bfd1846-943c-4630-beff-4df3f7bc2517",
     "showTitle": false,
     "title": ""
    }
   },
   "outputs": [],
   "source": [
    "results.groupBy(\"Location_code\", \"measurement\").count().show()"
   ]
  },
  {
   "cell_type": "code",
   "execution_count": null,
   "metadata": {
    "application/vnd.databricks.v1+cell": {
     "cellMetadata": {
      "byteLimit": 2048000,
      "rowLimit": 10000
     },
     "inputWidgets": {},
     "nuid": "b34d5d40-5383-4d56-b965-de6f9bd6e3d3",
     "showTitle": false,
     "title": ""
    }
   },
   "outputs": [],
   "source": [
    "results2.sort(\"datetime\").display()"
   ]
  }
 ],
 "metadata": {
  "application/vnd.databricks.v1+notebook": {
   "dashboards": [
    {
     "elements": [
      {
       "dashboardResultIndex": 0,
       "elementNUID": "6bfd1846-943c-4630-beff-4df3f7bc2517",
       "elementType": "command",
       "guid": "a7025fac-526f-4fe2-8727-460475a60697",
       "options": null,
       "position": {
        "height": 6,
        "width": 12,
        "x": 0,
        "y": 0,
        "z": null
       },
       "resultIndex": null
      }
     ],
     "globalVars": {},
     "guid": "74d89a04-dc8b-45f6-b225-f9c484fbea6d",
     "layoutOption": {
      "grid": true,
      "stack": true
     },
     "nuid": "ed912a16-53d4-47d4-bf62-a3a383c7d851",
     "origId": 4203168420256223,
     "title": "Untitled",
     "version": "DashboardViewV1",
     "width": 1024
    }
   ],
   "language": "python",
   "notebookMetadata": {
    "pythonIndentUnit": 4
   },
   "notebookName": "sensor_drift_training_visualisation",
   "widgets": {}
  },
  "language_info": {
   "name": "python"
  }
 },
 "nbformat": 4,
 "nbformat_minor": 0
}
